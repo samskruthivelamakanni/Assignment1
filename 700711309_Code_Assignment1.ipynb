{
 "cells": [
  {
   "cell_type": "code",
   "execution_count": 56,
   "id": "98e11a7c",
   "metadata": {},
   "outputs": [
    {
     "name": "stdout",
     "output_type": "stream",
     "text": [
      "[19, 19, 20, 22, 24, 24, 24, 25, 25, 26]\n",
      "Min Value: 19\n",
      "Max value: 26\n",
      "[19, 19, 20, 22, 24, 24, 24, 25, 25, 26, 19, 26]\n",
      "Median is: 24.0\n",
      "Average of ages: 22.75\n",
      "Range of ages: 7\n"
     ]
    }
   ],
   "source": [
    "#Question1\n",
    "\n",
    "##Sorting list and finding Min & Max\n",
    "ages = [19, 22, 19, 24, 20, 25, 26, 24, 25, 24]      #given list\n",
    "ages.sort()     #sorting list\n",
    "print(ages)\n",
    "min = ages[0]    #Finding Min which is the first element of the sorted list\n",
    "max = ages[-1]   #Finding Max which is the last element of the sorted list\n",
    "print(\"Min Value:\",min)         #printing min value\n",
    "print(\"Max value:\",max)         #printing max value\n",
    "\n",
    "##Adding min & max ages to the list\n",
    "ages.append(min)   #adding min value to the list\n",
    "ages.append(max)   #adding max value to the list\n",
    "print(ages)\n",
    "\n",
    "##Finding Median age\n",
    "n = len(ages)    #finding length of ages\n",
    "ages.sort()      #sorting ages by ascending order\n",
    "\n",
    "if n % 2 == 0:    #Checking if the number is even \n",
    "    median1 = ages[n//2]     #finding first middle element\n",
    "    median2 = ages[n//2 - 1]   #finding second middle element\n",
    "    median = (median1 + median2)/2    #getting their average to find the median\n",
    "else:             ##Else if the number is odd \n",
    "    median = ages[n//2]         #finding the middle element\n",
    "print(\"Median is: \" + str(median))\n",
    "\n",
    "##Finding Average age\n",
    "avg = sum(ages)/len(ages)        #calculated avg by diving sum of the list by length of the list\n",
    "print(\"Average of ages:\",avg)\n",
    "\n",
    "\n",
    "##Finding range of ages\n",
    "print(\"Range of ages:\",max-min)     #Max minus min calculated from above"
   ]
  },
  {
   "cell_type": "code",
   "execution_count": 57,
   "id": "cae6a93e",
   "metadata": {},
   "outputs": [
    {
     "name": "stdout",
     "output_type": "stream",
     "text": [
      "{}\n",
      "{'name': 'value1', 'color': 'value2', 'breed': 'value3', 'legs': 'value4', 'age': 'value5'}\n",
      "{'first_name': 'Sam', 'last_name': 'V', 'gender': 'Female', 'age': '26', 'marital_status': 'Married', 'skills': ['HTML', 'CSS', 'JS', 'React', 'Python'], 'country': 'USA', 'city': 'Missouri', 'address': 'UCM, Missouri'}\n",
      "Length: 9\n",
      "Values of skills: ['HTML', 'CSS', 'JS', 'React', 'Python']\n",
      "Datatype of skills: <class 'list'>\n",
      "Values of skills along with new values: ['HTML', 'CSS', 'JS', 'React', 'Python', 'Java', 'C#']\n",
      "dict_keys(['first_name', 'last_name', 'gender', 'age', 'marital_status', 'skills', 'country', 'city', 'address'])\n",
      "dict_values(['Sam', 'V', 'Female', '26', 'Married', ['HTML', 'CSS', 'JS', 'React', 'Python', 'Java', 'C#'], 'USA', 'Missouri', 'UCM, Missouri'])\n"
     ]
    }
   ],
   "source": [
    "#Question2:\n",
    "\n",
    "##Create an empty dictionary called dog\n",
    "dog = {}     #empty dictionary with name as dog\n",
    "print(dog)\n",
    "\n",
    "##Add name, color, breed, legs, age to the dog dictionary\n",
    "dog = {   \n",
    "    \"name\":\"value1\",\n",
    "    \"color\":\"value2\",\n",
    "    \"breed\":\"value3\",\n",
    "    \"legs\":\"value4\",\n",
    "    \"age\":\"value5\"\n",
    "}               #dog dictionary with keys and data values as requested. Used random values as no values given\n",
    "print(dog)\n",
    "\n",
    "##Create a student dictionary and add first_name, last_name, gender, age, marital_status,\n",
    "##skills, country, city and address as keys for the dictionary\n",
    "student = {\n",
    "    \"first_name\":\"Sam\",\n",
    "    \"last_name\":\"V\",\n",
    "    \"gender\":\"Female\",\n",
    "    \"age\":\"26\",\n",
    "    \"marital_status\":\"Married\",\n",
    "    \"skills\":['HTML', 'CSS', 'JS', 'React', 'Python'],\n",
    "    \"country\":\"USA\",\n",
    "    \"city\":\"Missouri\",\n",
    "    \"address\":\"UCM, Missouri\",\n",
    "}             #student dictionary created with requested keys & random data set\n",
    "print(student)\n",
    "\n",
    "##Get the length of the student dictionary\n",
    "print(\"Length:\",len(student))       #using len() function to get length of dictionary\n",
    "\n",
    "##Get the value of skills and check the data type, it should be a list\n",
    "print(\"Values of skills:\",student['skills'])     #getting values of skills\n",
    "print(\"Datatype of skills:\",type(student['skills']))       #checking datatype of skills\n",
    "\n",
    "##Modify the skills values by adding one or two skills\n",
    "student['skills'].append('Java')          #using append() function\n",
    "student['skills'].append('C#')            #using append() function\n",
    "print(\"Values of skills along with new values:\",student['skills'])\n",
    "\n",
    "##Get the dictionary keys as a list\n",
    "keys = student.keys()       #using keys() to get all keys\n",
    "print(keys)\n",
    "\n",
    "##Get the dictionary values as a list\n",
    "values = student.values()       #using values() to get all values\n",
    "print(values)"
   ]
  },
  {
   "cell_type": "code",
   "execution_count": 58,
   "id": "bf4162cc",
   "metadata": {},
   "outputs": [
    {
     "name": "stdout",
     "output_type": "stream",
     "text": [
      "('Mary', 'Kate', 'Rose')\n",
      "('John', 'Peter')\n",
      "('Mary', 'Kate', 'Rose', 'John', 'Peter')\n",
      "Number of siblings: 5\n",
      "('Mary', 'Kate', 'Rose', 'John', 'Peter', 'FatherName', 'MotherName')\n"
     ]
    }
   ],
   "source": [
    "#Question3\n",
    "\n",
    "##Create a tuple containing names of your sisters and your brothers (imaginary siblings are fine)\n",
    "sister = ('Mary', 'Kate', 'Rose')      #creating tuple of sisters\n",
    "brother = ('John', 'Peter')            #creating tuple of brothers\n",
    "print(sister)\n",
    "print(brother)\n",
    "\n",
    "##Join brothers and sisters tuples and assign it to siblings\n",
    "siblings = sister + brother       #joining 2 tuples\n",
    "print(siblings)\n",
    "\n",
    "##How many siblings do you have?\n",
    "print(\"Number of siblings:\",len(siblings))      #using len() function to get number of siblings\n",
    "\n",
    "##Modify the siblings tuple and add the name of your father and mother and assign it to family_members\n",
    "family_members = siblings + ('FatherName','MotherName')     #Adding Fathername & Mothername to siblings tuple by joining to it\n",
    "print(family_members)"
   ]
  },
  {
   "cell_type": "code",
   "execution_count": 59,
   "id": "c5d331cf",
   "metadata": {},
   "outputs": [
    {
     "name": "stdout",
     "output_type": "stream",
     "text": [
      "7\n",
      "{'Amazon', 'Apple', 'Facebook', 'Google', 'IBM', 'Oracle', 'Microsoft', 'Twitter'}\n",
      "{'Company2', 'IBM', 'Google', 'Company3', 'Oracle', 'Company1', 'Microsoft', 'Amazon', 'Apple', 'Twitter', 'Facebook'}\n",
      "{'Company2', 'IBM', 'Google', 'Company3', 'Oracle', 'Company1', 'Microsoft', 'Amazon', 'Apple', 'Facebook'}\n",
      "{'Company2', 'IBM', 'Google', 'Company3', 'Oracle', 'Company1', 'Microsoft', 'Amazon', 'Apple', 'Facebook'}\n",
      "{19, 20, 22, 24, 25, 26, 27, 28}\n",
      "{19, 20, 22, 24, 25, 26}\n",
      "True\n",
      "False\n",
      "{19, 20, 22, 24, 25, 26, 27, 28}\n",
      "{19, 20, 22, 24, 25, 26, 27, 28}\n",
      "{27, 28}\n",
      "[22, 19, 24, 25, 26, 24, 25, 24]\n",
      "{19, 22, 24, 25, 26}\n",
      "Length of list: 8\n",
      "Length of Set: 5\n",
      "Compare lengths: False\n"
     ]
    }
   ],
   "source": [
    "#Question4\n",
    "\n",
    "##Find the length of the set it_companies\n",
    "it_companies = {'Facebook', 'Google', 'Microsoft', 'Apple', 'IBM', 'Oracle', 'Amazon'}      #given set\n",
    "print(len(it_companies))       #using len() function\n",
    "\n",
    "##Add 'Twitter' to it_companies\n",
    "it_companies.add('Twitter')        #using add() method for adding\n",
    "print(it_companies)\n",
    "\n",
    "##Insert multiple IT companies at once to the set it_companies\n",
    "it_companies.update(['Company1', 'Company2', 'Company3'])     #using update() method to add multiple items\n",
    "print(it_companies)\n",
    "\n",
    "##Remove one of the companies from the set it_companies\n",
    "it_companies.remove('Twitter')           #using remove() method to remove item\n",
    "print(it_companies)\n",
    "\n",
    "##What is the difference between remove and discard\n",
    "#The remove() gives error when the specified element doesn't exist in the given set. \n",
    "#For instance, I'm removing abc and it throws an error below\n",
    "#it_companies.remove('abc')           \n",
    "#print(it_companies)\n",
    "\n",
    "#But the discard() method doesn't raise any error if the specified element is not present in the set \n",
    "#and the set remains unchanged.\n",
    "#This doesn't throw an error and the set remains same\n",
    "it_companies.discard('abc')           \n",
    "print(it_companies)\n",
    "\n",
    "##Join A and B\n",
    "A = {19, 22, 24, 20, 25, 26}\n",
    "B = {19, 22, 20, 25, 26, 24, 28, 27}\n",
    "print(A.union(B))           #using union() method for joining. We can also use A.update(B) function to get the same result\n",
    "\n",
    "##Find A intersection B\n",
    "print(A.intersection(B))    #using intersection() method \n",
    "\n",
    "##Is A subset of B\n",
    "print(A.issubset(B))     #using issubset() method\n",
    "\n",
    "##Are A and B disjoint sets\n",
    "print(A.isdisjoint(B))   #using isdisjoint() method\n",
    "\n",
    "##Join A with B and B with A\n",
    "print(A.union(B))        #Join A with B. We can also use A.update(B) to get the same result\n",
    "print(B.union(A))        #Join B with A. We can also use B.update(A) to get the same result\n",
    "\n",
    "##What is the symmetric difference between A and B\n",
    "print(B.symmetric_difference(A))    #using symmetric_difference() method\n",
    "\n",
    "##Delete the sets completely\n",
    "del(A)      #using del() method for deleting\n",
    "del(B)      #using del() method for deleting\n",
    "#print(A)\n",
    "#print(B)\n",
    "\n",
    "##Convert the ages to a set and compare the length of the list and the set.\n",
    "age = [22, 19, 24, 25, 26, 24, 25, 24]\n",
    "print(age)\n",
    "set_age = set(age)       #Converted list to set\n",
    "print(set_age)\n",
    "print(\"Length of list:\",len(age))        #finding length of list - this will count even duplicate elements in the list\n",
    "print(\"Length of Set:\",len(set_age))     #finding length of set - this will count only unique elements in the set\n",
    "print(\"Compare lengths:\",len(age) == len(set_age))            #Comparing lengths which return Boolean value"
   ]
  },
  {
   "cell_type": "code",
   "execution_count": 60,
   "id": "e0613d72",
   "metadata": {},
   "outputs": [
    {
     "name": "stdout",
     "output_type": "stream",
     "text": [
      "Area of circle with radius 30 is: 2826.0\n",
      "Circumference of circle with radius 30 is: 188.4\n",
      "Enter the radius of the circle:3\n",
      "Area of circle with radius 3.0 is: 28.259999999999998\n"
     ]
    }
   ],
   "source": [
    "#Question5\n",
    "\n",
    "##Calculate the area of a circle and assign the value to a variable name of _area_of_circle_\n",
    "radius = 30       #given radius is 30\n",
    "pi = 3.14         #pi valius is approx 3.14\n",
    "_area_of_circle_ = pi * radius * radius       #area of circle = pi*r*r\n",
    "print(\"Area of circle with radius\",radius,\"is:\",_area_of_circle_)\n",
    "\n",
    "##Calculate the circumference of a circle and assign the value to a variable name of _circum_of_circle_\n",
    "_circum_of_circle_ = 2 * pi * radius            #circumference of circle = 2*pi*r\n",
    "print(\"Circumference of circle with radius\",radius,\"is:\",_circum_of_circle_)\n",
    "\n",
    "##Take radius as user input and calculate the area.\n",
    "user_radius = float(input(\"Enter the radius of the circle:\"))            #taking user input for radius\n",
    "_area_of_circle_ = pi * user_radius * user_radius       #area of circle = pi*r*r\n",
    "print(\"Area of circle with radius\",user_radius,\"is:\",_area_of_circle_)"
   ]
  },
  {
   "cell_type": "code",
   "execution_count": 61,
   "id": "5a16de61",
   "metadata": {},
   "outputs": [
    {
     "name": "stdout",
     "output_type": "stream",
     "text": [
      "['I', 'am', 'a', 'teacher', 'and', 'I', 'love', 'to', 'inspire', 'and', 'teach', 'people']\n",
      "{'I', 'people', 'teach', 'a', 'am', 'to', 'and', 'love', 'teacher', 'inspire'}\n",
      "Number of unique words in the string: 10\n"
     ]
    }
   ],
   "source": [
    "#Question6:\n",
    "\n",
    "##How many unique words have been used in the sentence? Use the split methods and set to get the unique words.\n",
    "string = \"I am a teacher and I love to inspire and teach people\"     #given string\n",
    "print(string.split(' '))         #splitting the string\n",
    "unique_words = set(string.split(' '))        #using set to get unique words\n",
    "print(unique_words)\n",
    "print(\"Number of unique words in the string:\",len(unique_words))      #finding number of unique words in a string using len()"
   ]
  },
  {
   "cell_type": "code",
   "execution_count": 62,
   "id": "28f71a41",
   "metadata": {},
   "outputs": [
    {
     "name": "stdout",
     "output_type": "stream",
     "text": [
      "Name\t\tAge\tCountry\t\tCity\n",
      "Asabeneh\t250\tFinland\t\tHelsinki\n"
     ]
    }
   ],
   "source": [
    "#Question7\n",
    "\n",
    "##Use a tab escape sequence to get the following lines.\n",
    "print('Name\\t\\tAge\\tCountry\\t\\tCity')         #Using \\t for tab space\n",
    "print('Asabeneh\\t250\\tFinland\\t\\tHelsinki')   #Using \\t for tab space"
   ]
  },
  {
   "cell_type": "code",
   "execution_count": 63,
   "id": "85fd8073",
   "metadata": {},
   "outputs": [
    {
     "name": "stdout",
     "output_type": "stream",
     "text": [
      "The area of circle with 10 is 314.0\n"
     ]
    }
   ],
   "source": [
    "#Question8\n",
    "\n",
    "##Use the string formatting method to display the following:\n",
    "radius = 10    #given\n",
    "pi = 3.14      #given\n",
    "area = pi * radius ** 2            #given\n",
    "print('The area of circle with {} is {}'.format(radius, area))         #using string format to display"
   ]
  },
  {
   "cell_type": "code",
   "execution_count": 64,
   "id": "3f47c9d6",
   "metadata": {},
   "outputs": [
    {
     "name": "stdout",
     "output_type": "stream",
     "text": [
      "Enter number of students : 4\n",
      "150\n",
      "155\n",
      "160\n",
      "165\n",
      "Weight of 4 students in lbs: [150, 155, 160, 165]\n",
      "Weight of 4 students in kgs: ['68.04', '70.31', '72.57', '74.84']\n"
     ]
    }
   ],
   "source": [
    "#Question9\n",
    "\n",
    "##Write a program, which reads weights (lbs.) of N students into a list and convert these weights to\n",
    "##kilograms in a separate list using Loop. N: No of students (Read input from user)\n",
    "lbs = []       #empty list for lbs\n",
    "n = int(input(\"Enter number of students : \"))     #input number of students to be entered into list of weights\n",
    "for i in range(0, n):\n",
    "    add = int(input())\n",
    "    lbs.append(add)             #using for loop for appending weights into list of lbs\n",
    "print(\"Weight of\",n,\"students in lbs:\",lbs)\n",
    "kgs = []       #empty list for kgs\n",
    "for x in lbs:                   #using for loop for converting every value in lbs list to kgs\n",
    "    x = x*0.453592\n",
    "    kgs.append('%.2f' % x)      #using .2f to limit to 2 decimal points\n",
    "print(\"Weight of\",n,\"students in kgs:\",kgs)\n",
    "    "
   ]
  },
  {
   "cell_type": "code",
   "execution_count": null,
   "id": "16d46ee1",
   "metadata": {},
   "outputs": [],
   "source": [
    "#Question10\n",
    "\n",
    "#Solved and Explained in Word Document"
   ]
  }
 ],
 "metadata": {
  "kernelspec": {
   "display_name": "Python 3 (ipykernel)",
   "language": "python",
   "name": "python3"
  },
  "language_info": {
   "codemirror_mode": {
    "name": "ipython",
    "version": 3
   },
   "file_extension": ".py",
   "mimetype": "text/x-python",
   "name": "python",
   "nbconvert_exporter": "python",
   "pygments_lexer": "ipython3",
   "version": "3.9.12"
  }
 },
 "nbformat": 4,
 "nbformat_minor": 5
}
